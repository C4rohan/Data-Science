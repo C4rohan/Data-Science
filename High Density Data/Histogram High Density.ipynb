{
  "nbformat": 4,
  "nbformat_minor": 0,
  "metadata": {
    "colab": {
      "provenance": []
    },
    "kernelspec": {
      "name": "python3",
      "display_name": "Python 3"
    },
    "language_info": {
      "name": "python"
    }
  },
  "cells": [
    {
      "cell_type": "code",
      "source": [
        "!pip install utils\n",
        "!pip install netCDF4 \n",
        "!pip install scipy\n",
        "!pip install \"xarray[io]\""
      ],
      "metadata": {
        "colab": {
          "base_uri": "https://localhost:8080/"
        },
        "id": "_7Ly-8yNof_x",
        "outputId": "16a63ec0-73e1-4639-cb4c-6e2bfc083d57"
      },
      "execution_count": 3,
      "outputs": [
        {
          "output_type": "stream",
          "name": "stdout",
          "text": [
            "Looking in indexes: https://pypi.org/simple, https://us-python.pkg.dev/colab-wheels/public/simple/\n",
            "Collecting utils\n",
            "  Downloading utils-1.0.1-py2.py3-none-any.whl (21 kB)\n",
            "Installing collected packages: utils\n",
            "Successfully installed utils-1.0.1\n",
            "Looking in indexes: https://pypi.org/simple, https://us-python.pkg.dev/colab-wheels/public/simple/\n",
            "Requirement already satisfied: netCDF4 in /usr/local/lib/python3.7/dist-packages (1.6.0)\n",
            "Requirement already satisfied: cftime in /usr/local/lib/python3.7/dist-packages (from netCDF4) (1.6.1)\n",
            "Requirement already satisfied: numpy>=1.9 in /usr/local/lib/python3.7/dist-packages (from netCDF4) (1.21.6)\n",
            "Looking in indexes: https://pypi.org/simple, https://us-python.pkg.dev/colab-wheels/public/simple/\n",
            "Requirement already satisfied: scipy in /usr/local/lib/python3.7/dist-packages (1.7.3)\n",
            "Requirement already satisfied: numpy<1.23.0,>=1.16.5 in /usr/local/lib/python3.7/dist-packages (from scipy) (1.21.6)\n",
            "Looking in indexes: https://pypi.org/simple, https://us-python.pkg.dev/colab-wheels/public/simple/\n",
            "Requirement already satisfied: xarray[io] in /usr/local/lib/python3.7/dist-packages (0.20.2)\n",
            "Requirement already satisfied: pandas>=1.1 in /usr/local/lib/python3.7/dist-packages (from xarray[io]) (1.3.5)\n",
            "Requirement already satisfied: numpy>=1.18 in /usr/local/lib/python3.7/dist-packages (from xarray[io]) (1.21.6)\n",
            "Requirement already satisfied: typing-extensions>=3.7 in /usr/local/lib/python3.7/dist-packages (from xarray[io]) (4.1.1)\n",
            "Requirement already satisfied: importlib-metadata in /usr/local/lib/python3.7/dist-packages (from xarray[io]) (4.12.0)\n",
            "Collecting pydap\n",
            "  Downloading Pydap-3.2.2-py3-none-any.whl (2.3 MB)\n",
            "\u001b[K     |████████████████████████████████| 2.3 MB 4.0 MB/s \n",
            "\u001b[?25hRequirement already satisfied: scipy in /usr/local/lib/python3.7/dist-packages (from xarray[io]) (1.7.3)\n",
            "Requirement already satisfied: fsspec in /usr/local/lib/python3.7/dist-packages (from xarray[io]) (2022.8.2)\n",
            "Requirement already satisfied: netCDF4 in /usr/local/lib/python3.7/dist-packages (from xarray[io]) (1.6.0)\n",
            "Collecting rasterio\n",
            "  Downloading rasterio-1.2.10-cp37-cp37m-manylinux1_x86_64.whl (19.3 MB)\n",
            "\u001b[K     |████████████████████████████████| 19.3 MB 5.7 MB/s \n",
            "\u001b[?25hCollecting zarr\n",
            "  Downloading zarr-2.12.0-py3-none-any.whl (185 kB)\n",
            "\u001b[K     |████████████████████████████████| 185 kB 54.4 MB/s \n",
            "\u001b[?25hRequirement already satisfied: cftime in /usr/local/lib/python3.7/dist-packages (from xarray[io]) (1.6.1)\n",
            "Requirement already satisfied: pooch in /usr/local/lib/python3.7/dist-packages (from xarray[io]) (1.6.0)\n",
            "Collecting h5netcdf\n",
            "  Downloading h5netcdf-1.0.2-py2.py3-none-any.whl (24 kB)\n",
            "Collecting cfgrib\n",
            "  Downloading cfgrib-0.9.10.1-py3-none-any.whl (45 kB)\n",
            "\u001b[K     |████████████████████████████████| 45 kB 3.3 MB/s \n",
            "\u001b[?25hRequirement already satisfied: python-dateutil>=2.7.3 in /usr/local/lib/python3.7/dist-packages (from pandas>=1.1->xarray[io]) (2.8.2)\n",
            "Requirement already satisfied: pytz>=2017.3 in /usr/local/lib/python3.7/dist-packages (from pandas>=1.1->xarray[io]) (2022.2.1)\n",
            "Requirement already satisfied: six>=1.5 in /usr/local/lib/python3.7/dist-packages (from python-dateutil>=2.7.3->pandas>=1.1->xarray[io]) (1.15.0)\n",
            "Requirement already satisfied: click in /usr/local/lib/python3.7/dist-packages (from cfgrib->xarray[io]) (7.1.2)\n",
            "Collecting eccodes>=0.9.8\n",
            "  Downloading eccodes-1.5.0.tar.gz (56 kB)\n",
            "\u001b[K     |████████████████████████████████| 56 kB 4.1 MB/s \n",
            "\u001b[?25hRequirement already satisfied: attrs>=19.2 in /usr/local/lib/python3.7/dist-packages (from cfgrib->xarray[io]) (22.1.0)\n",
            "Requirement already satisfied: cffi in /usr/local/lib/python3.7/dist-packages (from eccodes>=0.9.8->cfgrib->xarray[io]) (1.15.1)\n",
            "Collecting findlibs\n",
            "  Downloading findlibs-0.0.2.tar.gz (6.2 kB)\n",
            "Requirement already satisfied: pycparser in /usr/local/lib/python3.7/dist-packages (from cffi->eccodes>=0.9.8->cfgrib->xarray[io]) (2.21)\n",
            "Requirement already satisfied: h5py in /usr/local/lib/python3.7/dist-packages (from h5netcdf->xarray[io]) (3.1.0)\n",
            "Requirement already satisfied: packaging in /usr/local/lib/python3.7/dist-packages (from h5netcdf->xarray[io]) (21.3)\n",
            "Requirement already satisfied: cached-property in /usr/local/lib/python3.7/dist-packages (from h5py->h5netcdf->xarray[io]) (1.5.2)\n",
            "Requirement already satisfied: zipp>=0.5 in /usr/local/lib/python3.7/dist-packages (from importlib-metadata->xarray[io]) (3.8.1)\n",
            "Requirement already satisfied: pyparsing!=3.0.5,>=2.0.2 in /usr/local/lib/python3.7/dist-packages (from packaging->h5netcdf->xarray[io]) (3.0.9)\n",
            "Requirement already satisfied: requests>=2.19.0 in /usr/local/lib/python3.7/dist-packages (from pooch->xarray[io]) (2.23.0)\n",
            "Requirement already satisfied: appdirs>=1.3.0 in /usr/local/lib/python3.7/dist-packages (from pooch->xarray[io]) (1.4.4)\n",
            "Requirement already satisfied: idna<3,>=2.5 in /usr/local/lib/python3.7/dist-packages (from requests>=2.19.0->pooch->xarray[io]) (2.10)\n",
            "Requirement already satisfied: urllib3!=1.25.0,!=1.25.1,<1.26,>=1.21.1 in /usr/local/lib/python3.7/dist-packages (from requests>=2.19.0->pooch->xarray[io]) (1.24.3)\n",
            "Requirement already satisfied: chardet<4,>=3.0.2 in /usr/local/lib/python3.7/dist-packages (from requests>=2.19.0->pooch->xarray[io]) (3.0.4)\n",
            "Requirement already satisfied: certifi>=2017.4.17 in /usr/local/lib/python3.7/dist-packages (from requests>=2.19.0->pooch->xarray[io]) (2022.6.15)\n",
            "Requirement already satisfied: beautifulsoup4 in /usr/local/lib/python3.7/dist-packages (from pydap->xarray[io]) (4.6.3)\n",
            "Requirement already satisfied: Jinja2 in /usr/local/lib/python3.7/dist-packages (from pydap->xarray[io]) (2.11.3)\n",
            "Collecting Webob\n",
            "  Downloading WebOb-1.8.7-py2.py3-none-any.whl (114 kB)\n",
            "\u001b[K     |████████████████████████████████| 114 kB 32.4 MB/s \n",
            "\u001b[?25hCollecting docopt\n",
            "  Downloading docopt-0.6.2.tar.gz (25 kB)\n",
            "Requirement already satisfied: MarkupSafe>=0.23 in /usr/local/lib/python3.7/dist-packages (from Jinja2->pydap->xarray[io]) (2.0.1)\n",
            "Collecting click-plugins\n",
            "  Downloading click_plugins-1.1.1-py2.py3-none-any.whl (7.5 kB)\n",
            "Collecting affine\n",
            "  Downloading affine-2.3.1-py2.py3-none-any.whl (16 kB)\n",
            "Requirement already satisfied: setuptools in /usr/local/lib/python3.7/dist-packages (from rasterio->xarray[io]) (57.4.0)\n",
            "Collecting cligj>=0.5\n",
            "  Downloading cligj-0.7.2-py3-none-any.whl (7.1 kB)\n",
            "Collecting snuggs>=1.4.1\n",
            "  Downloading snuggs-1.4.7-py3-none-any.whl (5.4 kB)\n",
            "Collecting asciitree\n",
            "  Downloading asciitree-0.3.3.tar.gz (4.0 kB)\n",
            "Collecting fasteners\n",
            "  Downloading fasteners-0.18-py3-none-any.whl (18 kB)\n",
            "Collecting numcodecs>=0.6.4\n",
            "  Downloading numcodecs-0.10.2-cp37-cp37m-manylinux_2_17_x86_64.manylinux2014_x86_64.whl (6.6 MB)\n",
            "\u001b[K     |████████████████████████████████| 6.6 MB 25.9 MB/s \n",
            "\u001b[?25hRequirement already satisfied: entrypoints in /usr/local/lib/python3.7/dist-packages (from numcodecs>=0.6.4->zarr->xarray[io]) (0.4)\n",
            "Building wheels for collected packages: eccodes, findlibs, docopt, asciitree\n",
            "  Building wheel for eccodes (setup.py) ... \u001b[?25l\u001b[?25hdone\n",
            "  Created wheel for eccodes: filename=eccodes-1.5.0-py3-none-any.whl size=39664 sha256=2b16d1dc6a698f8021887f562deb0cd8dd333e364c86f7e7c7f5599a620cbcd7\n",
            "  Stored in directory: /root/.cache/pip/wheels/1f/4b/5f/14f28c69acd26784b3ee47a41f2be2afc5c71ad36cee2030a0\n",
            "  Building wheel for findlibs (setup.py) ... \u001b[?25l\u001b[?25hdone\n",
            "  Created wheel for findlibs: filename=findlibs-0.0.2-py3-none-any.whl size=6560 sha256=70ce230e2939248ab88518012d288462cf9cee09c2426b33613af2eae3c78704\n",
            "  Stored in directory: /root/.cache/pip/wheels/34/e9/92/2a09d5a307252d22fb8d99b13685144b0419d98c36dba7b1c0\n",
            "  Building wheel for docopt (setup.py) ... \u001b[?25l\u001b[?25hdone\n",
            "  Created wheel for docopt: filename=docopt-0.6.2-py2.py3-none-any.whl size=13723 sha256=0c5e0c88dad22b5411ca624bc8a6381ae256ed77228eba6f604b0b296e9bd3d5\n",
            "  Stored in directory: /root/.cache/pip/wheels/72/b0/3f/1d95f96ff986c7dfffe46ce2be4062f38ebd04b506c77c81b9\n",
            "  Building wheel for asciitree (setup.py) ... \u001b[?25l\u001b[?25hdone\n",
            "  Created wheel for asciitree: filename=asciitree-0.3.3-py3-none-any.whl size=5050 sha256=c632da919e5a76ce0523177c77f48b56fb2e887b8626316291a8536ad41f97b3\n",
            "  Stored in directory: /root/.cache/pip/wheels/12/1c/38/0def51e15add93bff3f4bf9c248b94db0839b980b8535e72a0\n",
            "Successfully built eccodes findlibs docopt asciitree\n",
            "Installing collected packages: findlibs, Webob, snuggs, numcodecs, fasteners, eccodes, docopt, cligj, click-plugins, asciitree, affine, zarr, rasterio, pydap, h5netcdf, cfgrib\n",
            "Successfully installed Webob-1.8.7 affine-2.3.1 asciitree-0.3.3 cfgrib-0.9.10.1 click-plugins-1.1.1 cligj-0.7.2 docopt-0.6.2 eccodes-1.5.0 fasteners-0.18 findlibs-0.0.2 h5netcdf-1.0.2 numcodecs-0.10.2 pydap-3.2.2 rasterio-1.2.10 snuggs-1.4.7 zarr-2.12.0\n"
          ]
        }
      ]
    },
    {
      "cell_type": "code",
      "source": [
        "import numpy as np\n",
        "import matplotlib.pyplot as plt\n",
        "import pandas as pd\n",
        "import xarray as xr\n",
        "import netCDF4 as nc\n",
        "import seaborn as sns"
      ],
      "metadata": {
        "id": "4yVzfaIOmlSp"
      },
      "execution_count": 14,
      "outputs": []
    },
    {
      "cell_type": "code",
      "source": [
        "from google.colab import drive\n",
        "drive.mount('/content/drive')"
      ],
      "metadata": {
        "colab": {
          "base_uri": "https://localhost:8080/"
        },
        "id": "6WeRIKbeo4Yv",
        "outputId": "b947acf4-2fd1-44be-dc3e-7b96159d057a"
      },
      "execution_count": 9,
      "outputs": [
        {
          "output_type": "stream",
          "name": "stdout",
          "text": [
            "Mounted at /content/drive\n"
          ]
        }
      ]
    },
    {
      "cell_type": "code",
      "source": [
        "path5 = ('/content/drive/MyDrive/Multivariate Data Independent Study/ERA5_meteo_sfc_2021_daily.nc')\n",
        "data5 = xr.open_dataset(path5)"
      ],
      "metadata": {
        "id": "x5hdjg7OomME"
      },
      "execution_count": 10,
      "outputs": []
    },
    {
      "cell_type": "code",
      "execution_count": 11,
      "metadata": {
        "id": "7tSogu87mQkt"
      },
      "outputs": [],
      "source": [
        "def transformdm1(x):\n",
        "  import dask.dataframe\n",
        "# Transforming Data\n",
        "  dask_df = x.to_dask_dataframe(dim_order=None, set_index=False)\n",
        "  dd = dask_df.compute()\n",
        "  sst_data_trans = pd.DataFrame()\n",
        "  #t2m_data_trans = pd.DataFrame()\n",
        "\n",
        "  for i in range(0,dd.shape[0]):\n",
        "    b=('sst'+'('+str(dd.latitude[i])+','+str(dd.longitude[i])+')')\n",
        "   #c=('t2m'+'('+str(dd.lat[i])+','+str(dd.lon[i])+')')\n",
        "\n",
        "    sst_data_trans.loc[dd.time[i], b] = dd.sst[i]\n",
        "    #t2m_data_trans.loc[dd.time[i], c] = dd.t2m[i]\n",
        "\n",
        "#Concating the variables \n",
        "  trans_concat = pd.concat([sst_data_trans]) #],,t2m_data_trans axis=1)\n",
        "  return trans_concat"
      ]
    },
    {
      "cell_type": "code",
      "source": [
        "datat5=transformdm1(data5)"
      ],
      "metadata": {
        "colab": {
          "base_uri": "https://localhost:8080/"
        },
        "id": "CDxzqpa2pQRj",
        "outputId": "a65357b5-015f-46f9-d5cd-719f44711985"
      },
      "execution_count": 12,
      "outputs": [
        {
          "output_type": "stream",
          "name": "stderr",
          "text": [
            "/usr/local/lib/python3.7/dist-packages/pandas/core/indexing.py:1684: PerformanceWarning: DataFrame is highly fragmented.  This is usually the result of calling `frame.insert` many times, which has poor performance.  Consider joining all columns at once using pd.concat(axis=1) instead.  To get a de-fragmented frame, use `newframe = frame.copy()`\n",
            "  self.obj[key] = infer_fill_value(value)\n"
          ]
        }
      ]
    },
    {
      "cell_type": "code",
      "source": [
        "\n",
        "# the histogram of the data\n",
        "plt.hist(datat5,density=True, facecolor='g', alpha=0.75)\n",
        "\n",
        "\n",
        "plt.xlabel('Smarts')\n",
        "plt.ylabel('Probability')\n",
        "plt.title('Histogram of SST. ERA5_meteo_sfc_2021_daily ')\n",
        "#plt.xlim(40, 160)\n",
        "#plt.ylim(0, 0.03)\n",
        "plt.grid(True)\n",
        "plt.show()"
      ],
      "metadata": {
        "colab": {
          "base_uri": "https://localhost:8080/",
          "height": 295
        },
        "id": "p8gSX8bymoAl",
        "outputId": "ac3c046c-98a3-44aa-f5aa-7ab17d466ef2"
      },
      "execution_count": 13,
      "outputs": [
        {
          "output_type": "display_data",
          "data": {
            "text/plain": [
              "<Figure size 432x288 with 1 Axes>"
            ],
            "image/png": "[encoded data removed]"
          },
          "metadata": {
            "needs_background": "light"
          }
        }
      ]
    },
    {
      "cell_type": "code",
      "source": [
        "# seaborn histogram\n",
        "sns.distplot(datat5, hist=True, kde=False, \n",
        "             bins=int(180/5), color = 'blue',\n",
        "             hist_kws={'edgecolor':'black'})"
      ],
      "metadata": {
        "colab": {
          "base_uri": "https://localhost:8080/",
          "height": 339
        },
        "id": "_czh_S6TqoQc",
        "outputId": "ffb2cb25-440e-4645-c9a8-368bc5f1d255"
      },
      "execution_count": 15,
      "outputs": [
        {
          "output_type": "stream",
          "name": "stderr",
          "text": [
            "/usr/local/lib/python3.7/dist-packages/seaborn/distributions.py:2619: FutureWarning: `distplot` is a deprecated function and will be removed in a future version. Please adapt your code to use either `displot` (a figure-level function with similar flexibility) or `histplot` (an axes-level function for histograms).\n",
            "  warnings.warn(msg, FutureWarning)\n"
          ]
        },
        {
          "output_type": "execute_result",
          "data": {
            "text/plain": [
              "<matplotlib.axes._subplots.AxesSubplot at 0x7f95bc6a00d0>"
            ]
          },
          "metadata": {},
          "execution_count": 15
        },
        {
          "output_type": "display_data",
          "data": {
            "text/plain": [
              "<Figure size 432x288 with 1 Axes>"
            ],
            "image/png": "[encoded data removed]"
          },
          "metadata": {
            "needs_background": "light"
          }
        }
      ]
    }
  ]
}